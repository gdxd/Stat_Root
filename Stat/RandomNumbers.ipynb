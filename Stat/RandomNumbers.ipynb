{
 "cells": [
  {
   "cell_type": "markdown",
   "id": "758bd0ba-056f-4e72-a464-f8f99177d913",
   "metadata": {},
   "source": [
    "# Random Numbers and Monte Carlo Methods in Particle Physics\n",
    "\n",
    "1st part -- Random Numbers: interactive notebook presentation\n",
    "\n",
    "2nd part -- Monte Carlo Methods [slides](Z_MC_all.pdf)\n",
    "\n",
    "---"
   ]
  },
  {
   "cell_type": "markdown",
   "id": "2fdc711a",
   "metadata": {},
   "source": [
    "# Random Numbers (on a computer)\n",
    "With material from previous lecture/course prepared by Alexander Mann (*etal*) ."
   ]
  },
  {
   "cell_type": "markdown",
   "id": "7510102b",
   "metadata": {},
   "source": [
    "## Example 1: Buffon's needle\n",
    "* “Buffon's needle problem” (Graf G.L.L. von Buffon, 1707 – 1788)\n",
    "* draw parallel, equidistant lines (distance $d$), throw $N$ needles (length $l\\leq d$)\n",
    "* probability for needle intersecting with line: $p = l_\\text{eff}/d = l|\\cos \\phi|/d$\n",
    "* integrate, assuming flat distribution for angle $\\phi$: \n",
    "$$p = \\int_0^{2\\pi} \\frac {l \\left|\\cos {\\varphi}\\right|}{d} \\frac {\\mathrm d \\varphi}{2\\pi}\n",
    "    = \\frac {l}{2\\pi d} 2 \\int_{-\\pi/2}^{\\pi/2} \\cos\\varphi \\, \\mathrm d \\varphi\n",
    "    = \\frac {2l}{\\pi d}$$\n",
    "* von Mises: $N_\\text{Treffer}/N \\to p$ for $N\\to\\infty$ \n",
    "$$\\tfrac{2\\cdot N \\cdot l}{N_\\text{Treffer} \\cdot d} \\rightarrow \\pi$$"
   ]
  },
  {
   "cell_type": "markdown",
   "id": "6877ab4d",
   "metadata": {},
   "source": [
    "What do you get for $\\pi$ here?\n",
    "[![](../figures/Buffon_Streicholz_1.jpg)](https://en.wikipedia.org/wiki/File:Streicholz-Pi.jpg)"
   ]
  },
  {
   "cell_type": "code",
   "execution_count": null,
   "id": "b9fad330-7c17-4f95-9c91-6ec6b69686ce",
   "metadata": {},
   "outputs": [],
   "source": [
    "2*17/11"
   ]
  },
  {
   "cell_type": "markdown",
   "id": "32618e82",
   "metadata": {},
   "source": [
    "## Example 2: area of a circle\n",
    "* also here, we determine $\\pi$, but this time from the numerical integration of the area of a circle\n",
    "* approximate $\\pi$ as ratio of hits $t$ and tries $n$:\n",
    "  * $\\lim_{n\\to\\infty} t/n = \\pi / 4$ \n",
    "  * Why does this hold?"
   ]
  },
  {
   "cell_type": "markdown",
   "id": "6deecf68",
   "metadata": {},
   "source": [
    "How to define a circle:\n",
    "* circle = shape consisting of all points in a plane at a given distance from the center\n",
    "* unit circle, using Euclidean distance in 2-D: $x^2 + y^2 \\leq 1$\n",
    "\n",
    "Implementation:"
   ]
  },
  {
   "cell_type": "code",
   "execution_count": null,
   "id": "e5a6e73e-9e11-40e4-b2bc-ac7240677450",
   "metadata": {},
   "outputs": [],
   "source": [
    "import numpy as np\n",
    "import matplotlib.pyplot as plt\n",
    "%matplotlib widget"
   ]
  },
  {
   "cell_type": "code",
   "execution_count": null,
   "id": "5ece4d25",
   "metadata": {},
   "outputs": [],
   "source": [
    "xy    = np.random.rand(2, 10000)\n",
    "xy2   = np.sum(xy ** 2, axis=0)\n",
    "valid = xy2 < 1\n",
    "good  = xy[:, valid]\n",
    "bad   = xy[:, ~valid]"
   ]
  },
  {
   "cell_type": "code",
   "execution_count": null,
   "id": "1cb49d8c-ec59-4cfa-a163-dfc5ea0ecc28",
   "metadata": {},
   "outputs": [],
   "source": [
    "xy2.shape"
   ]
  },
  {
   "cell_type": "code",
   "execution_count": null,
   "id": "31ab3c76",
   "metadata": {},
   "outputs": [],
   "source": [
    "plt.plot(*good, \".\")\n",
    "plt.plot(*bad, \".\");\n",
    "plt.axis(\"equal\");"
   ]
  },
  {
   "cell_type": "code",
   "execution_count": null,
   "id": "87f3ccf5",
   "metadata": {},
   "outputs": [],
   "source": [
    "valid"
   ]
  },
  {
   "cell_type": "code",
   "execution_count": null,
   "id": "ca038ba6",
   "metadata": {},
   "outputs": [],
   "source": [
    "pimc=np.mean(valid) * 4\n",
    "pimc"
   ]
  },
  {
   "cell_type": "markdown",
   "id": "f966313f",
   "metadata": {},
   "source": [
    "Can easily be generalized to higher dimensions:\n",
    "* e.g. for a sphere: $x^2+y^2+z^2 \\leq 1$\n",
    "* N dimensions: $\\sum_{i=1}^N x_i^2 \\leq 1$\n",
    "\n",
    "Volume of a sphere:"
   ]
  },
  {
   "cell_type": "code",
   "execution_count": null,
   "id": "e67b7250",
   "metadata": {},
   "outputs": [],
   "source": [
    "xyz   = np.random.rand(3, 10000)\n",
    "valid = np.sum(xyz ** 2, axis=0) < 1\n",
    "good  = xyz[:, valid]\n",
    "bad   = xyz[:, ~valid]\n",
    "print(\"MC:      \", np.mean(valid)*8) # explain: why MC?\n",
    "print(\"Analytic:\", 4 / 3 * np.pi)"
   ]
  },
  {
   "cell_type": "code",
   "execution_count": null,
   "id": "75b9e84e",
   "metadata": {},
   "outputs": [],
   "source": []
  },
  {
   "cell_type": "markdown",
   "id": "91da963c",
   "metadata": {},
   "source": [
    "## Generating random numbers\n",
    "We have seen that random numbers are useful / necessary to do (Monte Carlo) integrations on a computer. What is behind the `np.rand` function, i.e. how can we construct random numbers using a deterministic system like a computer?"
   ]
  },
  {
   "cell_type": "markdown",
   "id": "672b7b46",
   "metadata": {},
   "source": [
    "* first task: we need a generator for random numbers\n",
    "  * will then see that we can generate random numbers following arbitrary distributions (Gaussian, Poissonian, exponential, ...) from this\n",
    "* on a deterministic computer, we can only generate *pseudo-random numbers*\n",
    "  * special hardware for true random numbers (important for secure cryptography: attacker must not be able to infer random numbers) \n",
    "* we want these *pseudo-random numbers* to be\n",
    "  * independently and identically distributed (i.i.d.) \n",
    "  * have a long period\n",
    "  * fast to compute, easy on memory\n",
    "  * reproducible (for debugging)\n",
    "* pseudo-random numbers with these properties are suitable for our purposes (e.g. MC integration)"
   ]
  },
  {
   "cell_type": "markdown",
   "id": "1117bbfd",
   "metadata": {},
   "source": [
    "### Simple random-number generator: [linear congruential generator](https://en.wikipedia.org/wiki/Linear_congruential_generator)\n",
    "* recursive definition: $I_j=(a\\cdot I_{j-1}+c) \\mod m$ \n",
    "* 3 integer constants: multiplier $a$, increment $c$, modulus $m$ \n",
    "* plus: start (or seed) value $I_0$ (*random seed*)\n",
    "* generates sequence $I_1,I_2,...$ with $0 \\leq I_j \\leq m-1$\n",
    "  * $I_j$ is periodic sequence with (maximum) period $m$\n",
    "  * $u_j = I_j/m \\in [0, 1)$"
   ]
  },
  {
   "cell_type": "code",
   "execution_count": null,
   "id": "8a48ea90",
   "metadata": {},
   "outputs": [],
   "source": [
    "def lin_cong_iter(c, a, m, I_0):\n",
    "    \"\"\"implements a linear congruential generator\"\"\"\n",
    "    I_j = I_0\n",
    "\n",
    "    while True:\n",
    "        yield I_j # <- Python generator\n",
    "        I_j = (a * I_j + c) % m\n",
    "        if I_j == I_0:\n",
    "            # arrived at seed value again\n",
    "            yield I_j\n",
    "            break"
   ]
  },
  {
   "cell_type": "code",
   "execution_count": null,
   "id": "7d60a69f-23ef-49d5-bb92-8a67753f20b9",
   "metadata": {},
   "outputs": [],
   "source": [
    "f = lin_cong_iter(0, 3, 7, 1)"
   ]
  },
  {
   "cell_type": "code",
   "execution_count": null,
   "id": "cef89617-945a-4d1c-bdd2-f9b5b748f4bf",
   "metadata": {},
   "outputs": [],
   "source": [
    "next(f)"
   ]
  },
  {
   "cell_type": "code",
   "execution_count": null,
   "id": "b2673e54",
   "metadata": {},
   "outputs": [],
   "source": [
    "list(lin_cong_iter(0, 3, 7, 1))"
   ]
  },
  {
   "cell_type": "markdown",
   "id": "c2e242ac",
   "metadata": {},
   "source": [
    "Do these look random? Can you predict the next number from the previous numbers without knowing the implementation?"
   ]
  },
  {
   "cell_type": "markdown",
   "id": "872a9483",
   "metadata": {},
   "source": [
    "Map to range $[0,1)$:"
   ]
  },
  {
   "cell_type": "code",
   "execution_count": null,
   "id": "d3b3f313",
   "metadata": {},
   "outputs": [],
   "source": [
    "list(i / 7 for i in lin_cong_iter(0, 3, 7, 1))"
   ]
  },
  {
   "cell_type": "markdown",
   "id": "ba50465e",
   "metadata": {},
   "source": []
  },
  {
   "cell_type": "markdown",
   "id": "e99c889c",
   "metadata": {},
   "source": [
    "### Testing randomness\n",
    "* correlations will spoil MC computations, results will be biased (i.e. wrong)\n",
    "* define suite of tests (e.g. [TestU01](https://en.wikipedia.org/wiki/TestU01)) that random-number generators have to pass, e.g.\n",
    "  * test flatness of distributon ($\\chi^2$ tests for sub-intervals of $[0,1)$)\n",
    "  * correlation tests ([spectral tests](https://en.wikipedia.org/wiki/Spectral_test))\n",
    "  \n",
    "Let's do a spectral test of our LCG:"
   ]
  },
  {
   "cell_type": "code",
   "execution_count": null,
   "id": "88c2525b",
   "metadata": {},
   "outputs": [],
   "source": [
    "# generate some random numbers\n",
    "lcg_numbers = list(lin_cong_iter(a=57, c=1, m=256, I_0=10))[:-1]\n",
    "print(len(lcg_numbers))"
   ]
  },
  {
   "cell_type": "code",
   "execution_count": null,
   "id": "f34596a7",
   "metadata": {},
   "outputs": [],
   "source": [
    "# numpy's random numbers\n",
    "real_rand = np.random.randint(low = 0, high = 256, size = len(lcg_numbers))"
   ]
  },
  {
   "cell_type": "code",
   "execution_count": null,
   "id": "eaa6377c",
   "metadata": {},
   "outputs": [],
   "source": [
    "# plot sequence\n",
    "fig, axs = plt.subplots(1, 2, figsize=(8, 4))\n",
    "axs[0].plot(range(len(lcg_numbers)), lcg_numbers, \"x-\", label = \"lcg_numbers\")\n",
    "axs[0].legend()\n",
    "axs[1].plot(range(len(lcg_numbers)), real_rand, \"x-\", label = \"numpy\")\n",
    "axs[1].legend()\n",
    "plt.show()"
   ]
  },
  {
   "cell_type": "markdown",
   "id": "d8402089",
   "metadata": {},
   "source": [
    "No visible difference."
   ]
  },
  {
   "cell_type": "code",
   "execution_count": null,
   "id": "564bb5ac",
   "metadata": {},
   "outputs": [],
   "source": [
    "# flatness\n",
    "#fig, axs = plt.subplots(1, 1, figsize=(8, 4))\n",
    "plt.figure()\n",
    "plt.hist(lcg_numbers, bins = 20, alpha = 0.5, label = \"lcg_numbers\")\n",
    "plt.hist(real_rand, bins = 20, alpha = 0.5, label = \"numpy\")\n",
    "plt.legend()\n",
    "plt.show()"
   ]
  },
  {
   "cell_type": "markdown",
   "id": "de153967",
   "metadata": {},
   "source": [
    "## 🤔"
   ]
  },
  {
   "cell_type": "code",
   "execution_count": null,
   "id": "d2371b58",
   "metadata": {},
   "outputs": [],
   "source": [
    "# spectral test in 2-D\n",
    "fig, axs = plt.subplots(1, 2, figsize=(8, 4))\n",
    "axs[0].plot(lcg_numbers[::2], lcg_numbers[1::2], \"+\", label = \"lcg_numbers\")\n",
    "axs[0].legend()\n",
    "axs[1].plot(real_rand[::2], real_rand[1::2], \"+\", label = \"numpy\")\n",
    "axs[1].legend()\n",
    "plt.show()"
   ]
  },
  {
   "cell_type": "markdown",
   "id": "230082ff",
   "metadata": {},
   "source": [
    "## 😲"
   ]
  },
  {
   "cell_type": "markdown",
   "id": "42d0ccc6-61ee-458c-b0b8-05dcaf72d015",
   "metadata": {},
   "source": [
    "#### Excercise\n",
    "\n",
    "Below are lcg settings corresponding to famous case of IBM **randu** Generator  which was popular generator in the 60s.\n",
    "\n",
    "What's wrong with it?"
   ]
  },
  {
   "cell_type": "code",
   "execution_count": null,
   "id": "f1edeb5c",
   "metadata": {},
   "outputs": [],
   "source": [
    "import numpy as np\n",
    "import matplotlib.pyplot as plt\n",
    "%matplotlib widget\n",
    "m = 2147483648\n",
    "fr = lin_cong_iter(a=65539, c=0, m=m, I_0=10)\n",
    "ntot=30000\n",
    "lr=np.array([ next(fr)/m for i in range(ntot)])\n",
    "fig = plt.figure()\n",
    "ax = fig.add_subplot(projection='3d')\n",
    "ax.scatter(lr[0::3],lr[1::3],lr[2::3],marker='.')\n",
    "plt.show()\n",
    "           "
   ]
  },
  {
   "cell_type": "markdown",
   "id": "e0d85d77",
   "metadata": {},
   "source": [
    "## Random numbers with arbitrary distributions\n",
    "Now that we have a generator for i.i.d. random numbers, let's get back to the point of transforming these into random numbers for arbitrary probability distributions. We will look at:\n",
    "* inverse transform sampling (analytic, thus efficient)\n",
    "* rejection sampling (useful if inversion of PDF not possible)\n",
    "* special cases (e.g. Gaussian random numbers)"
   ]
  },
  {
   "cell_type": "markdown",
   "id": "565e5102",
   "metadata": {},
   "source": [
    "For the inverse transform sampling, we need to compute the cumulative distribution function (CDF) $F$ for the probability distribution function (PDF) $f$ that we want to sample from: \n",
    "$$F(x): x \\to [0,1], F(x) \\,\\dot{=}\\, \\int_{-\\infty}^x f(t) \\mathrm dt,$$\n",
    "and its inverse $F^{-1}$.\n",
    "\n",
    "Some PDFs for normal distributions:\n",
    "![](../figures/Normal_Distribution_PDF.png) \n",
    "\n",
    "Corresponding CDFs:\n",
    "![](../figures/Normal-distribution-cumulative-density-function-many.png)"
   ]
  },
  {
   "cell_type": "markdown",
   "id": "6331b05a",
   "metadata": {},
   "source": [
    "[Inverse transform sampling](https://en.wikipedia.org/wiki/Inverse_transform_sampling): $F^{-1}: [0,1] \\to \\operatorname{domain}(f)$ gives random numbers $X$ distributed according to $f$ when using i.i.d. random numbers $U$ as input, $X = F^{-1}(U)$."
   ]
  },
  {
   "cell_type": "markdown",
   "id": "6797f96f",
   "metadata": {},
   "source": [
    "### Example: exponentially distributed random numbers\n",
    "* PDF: $f(x) = \\lambda \\cdot \\exp(-\\lambda \\cdot x)$ for $x\\geq0$\n",
    "* CDF: $F(x) = \\int_{t_\\text{min} = 0}^{x}\\lambda \\cdot \\exp(-\\lambda\\cdot t) \\mathrm dt = [-\\exp(-\\lambda \\cdot t)]_0^x =  1 - \\exp(-\\lambda \\cdot x)$ \n",
    "* inverse: $x(u) = F^{-1}(x) = -\\ln(1-u)/\\lambda = -\\ln(u)/\\lambda$"
   ]
  },
  {
   "cell_type": "code",
   "execution_count": null,
   "id": "d751829d",
   "metadata": {},
   "outputs": [],
   "source": [
    "# generate\n",
    "random_u = np.random.random(300000)\n",
    "_lambda  = 2\n",
    "random_x = -np.log(random_u)/_lambda\n",
    "\n",
    "# plot\n",
    "fig, axs = plt.subplots(1, 2, figsize=(8, 4))\n",
    "axs[0].hist(random_u, bins = 100)\n",
    "axs[1].hist(random_x, bins = 100)\n",
    "axs[1].set_yscale('log')\n",
    "plt.show()"
   ]
  },
  {
   "cell_type": "markdown",
   "id": "2f077c3a",
   "metadata": {},
   "source": [
    "### Example: Gaussian distributed random numbers\n",
    "For a Gaussian distribution $f(x) = \\exp(-x^2/2) / \\sqrt{2\\pi}$, there is no analytic inverse of the CDF, so we cannot use inverse transform sampling. Instead, we will introduce [rejection sampling](https://en.wikipedia.org/wiki/Rejection_sampling). The principle is the same as what we used to compute the area of a circle above. In its simplest form:\n",
    "* define the range to draw samples from, $[x_\\text{min}, x_\\text{max}]$\n",
    "* determine the maximum value of the PDF, $f_\\text{max}$, over this range\n",
    "* draw two i.i.d. random numbers $u_1$, $u_2$, map $u_1$ to $u_1' \\in [x_\\text{min}, x_\\text{max}]$ and $u_2$ to $u_2' \\in [0, f_\\text{max}]$\n",
    "* if $u_2' < f_\\text{max}$, accept $u_1'$ as a sample from $f(x)$, otherwise repeat"
   ]
  },
  {
   "cell_type": "code",
   "execution_count": null,
   "id": "b8326247",
   "metadata": {},
   "outputs": [],
   "source": [
    "def f(x):\n",
    "    # note: ufunc\n",
    "    return np.exp(-x**2/2) / np.sqrt(2*np.pi)\n",
    "\n",
    "# ranges\n",
    "xmin  = -3\n",
    "xmax  = +3\n",
    "fmax  = 0.5\n",
    "# uniforms\n",
    "xs    = xmin + np.random.random(10000) * (xmax-xmin)\n",
    "ys    = np.random.random(10000) * fmax\n",
    "# accept or reject\n",
    "valid = ys < f(xs)"
   ]
  },
  {
   "cell_type": "code",
   "execution_count": null,
   "id": "2f972ce5",
   "metadata": {},
   "outputs": [],
   "source": [
    "# plot\n",
    "plt.figure()\n",
    "plt.plot(xs[ valid], ys[ valid], \".\")\n",
    "plt.plot(xs[~valid], ys[~valid], \".\");"
   ]
  },
  {
   "cell_type": "markdown",
   "id": "65e3e46f",
   "metadata": {},
   "source": [
    "This is quite inefficient, in particular if the fraction of our sampling box covered by the area under $f(x)$ is small:"
   ]
  },
  {
   "cell_type": "code",
   "execution_count": null,
   "id": "75e90b28",
   "metadata": {},
   "outputs": [],
   "source": [
    "print(\"Acceptance rate:\", sum(valid) / len(valid))"
   ]
  },
  {
   "cell_type": "markdown",
   "id": "b1d52c4f",
   "metadata": {},
   "source": [
    "Ideas to improve this are *importance sampling* (sample subranges with large $f(x)$ with higher frequency) or to approximate the function with a known (strictly smaller) analytic function and draw samples from this (and the remainder if large)."
   ]
  },
  {
   "cell_type": "markdown",
   "id": "88c12f40",
   "metadata": {},
   "source": [
    "For special cases, there may be more efficient alternatives. One example for the Gaussian distribution is the [Box-Muller method](https://en.wikipedia.org/wiki/Box%E2%80%93Muller_transform), which can produce 2 random Gaussian-distributed numbers from 2 i.i.d. input random numbers:"
   ]
  },
  {
   "cell_type": "code",
   "execution_count": null,
   "id": "7b6edbb4",
   "metadata": {},
   "outputs": [],
   "source": [
    "def BoxMuller(u1, u2):\n",
    "    \"\"\"Box–Muller transform (basic form)\"\"\"\n",
    "    # two random numbers in, two out\n",
    "    f1 = np.sqrt(-2*np.log(u1))\n",
    "    f2 = 2*np.pi*u2\n",
    "    gauss1 = f1 * np.cos(f2)\n",
    "    gauss2 = f1 * np.sin(f2)\n",
    "    return gauss1, gauss2"
   ]
  },
  {
   "cell_type": "code",
   "execution_count": null,
   "id": "5f5a6db3",
   "metadata": {},
   "outputs": [],
   "source": [
    "u1 = np.random.random(10000)\n",
    "u2 = np.random.random(10000)\n",
    "g = BoxMuller(u1, u2)\n",
    "vals = np.concatenate(g)\n",
    "plt.figure()\n",
    "plt.hist(vals, bins = 50);\n"
   ]
  },
  {
   "cell_type": "code",
   "execution_count": null,
   "id": "5e897ee2",
   "metadata": {},
   "outputs": [],
   "source": [
    "# fit gaussian\n",
    "from scipy.stats import norm\n",
    "gp=norm.fit(vals)\n",
    "print('gaussian fit :', gp)\n",
    "rvn=norm(*gp)\n",
    "plt.figure()\n",
    "p,x,*r=plt.hist(vals,bins=50,density=1) \n",
    "plt.plot(x,rvn.pdf(x));\n",
    "plt.yscale('log')"
   ]
  },
  {
   "cell_type": "code",
   "execution_count": null,
   "id": "13f7473e-bf0a-4bdd-9728-6bf7a769a62c",
   "metadata": {},
   "outputs": [],
   "source": []
  }
 ],
 "metadata": {
  "@webio": {
   "lastCommId": null,
   "lastKernelId": null
  },
  "kernelspec": {
   "display_name": "Python 3",
   "language": "python",
   "name": "python3"
  },
  "language_info": {
   "codemirror_mode": {
    "name": "ipython",
    "version": 3
   },
   "file_extension": ".py",
   "mimetype": "text/x-python",
   "name": "python",
   "nbconvert_exporter": "python",
   "pygments_lexer": "ipython3",
   "version": "3.9.5"
  }
 },
 "nbformat": 4,
 "nbformat_minor": 5
}
