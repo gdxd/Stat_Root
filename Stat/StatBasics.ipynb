{
 "cells": [
  {
   "cell_type": "markdown",
   "id": "2fdc711a",
   "metadata": {},
   "source": [
    "# Statistics -- some basic concepts\n",
    "\n",
    "\n",
    "**Setup:**\n",
    "* login to [jupyterhub](https://workshop.physik.uni-muenchen.de), details  see http://www-static.etp.physik.uni-muenchen.de/kurs/Computing/python/node3.html\n",
    "* Preferably select environment **root/6.24.02** (needed for ROOT course later, environemt python/3.9-2021.11 works for python demos as well)\n",
    "* Download git repo:\n",
    "`git clone https://github.com/gdxd/Stat_Root`\n",
    "* This notebook: `Stat_Root/Stat/StatBasics.ipynb`\n",
    "\n",
    "\n",
    "\n",
    "\n",
    "\n",
    "**Disclaimer:**\n",
    "\n",
    "Statistics is a complex subject, we can only cover a few basic elements here in this short intro.\n",
    "\n",
    "\n",
    "\n",
    "\n",
    "\n",
    "## Characterizing Data\n",
    "Two basic kinds of data:\n",
    "* qualitative\n",
    "  * categories, colors, emotions, preferences, popularity\n",
    "  * polls, medical studies, market research \n",
    "  * *difficult to treat with mathematical methods*\n",
    "* quantitative\n",
    "  * numerical values -- std case in physics/science, we will focus on that\n",
    "    * can be discrete -- number of tracks in collission, number of persons in car, number of heads when tossing coins, ...\n",
    "    * or continuous -- mass of particle, size of person, intensity of source, velocity of object, ...\n",
    "    \n"
   ]
  },
  {
   "cell_type": "markdown",
   "id": "7510102b",
   "metadata": {},
   "source": [
    "### Visualisation example\n",
    "Frequency-distribution:\n",
    "* 1 or more quantities are repeatedly measured \n",
    "* fill quantity in **histogram**\n",
    "  * divide range *(xmin, xmax)* into *nbins* intervals\n",
    "  * each observation is filled into histogram\n",
    "    * interval content incremented by 1\n",
    "    \n",
    "Simple example:\n",
    "* fill measured wire position into histogram\n",
    "\n",
    "\n",
    "If normalized : \n",
    "$ \\frac {N_{bin}} {N_{tot}}$\n",
    "\n",
    "it can be interpreted as probabily density\n"
   ]
  },
  {
   "cell_type": "code",
   "execution_count": null,
   "id": "4cbaf7ae-7d05-46f0-9692-36c40d31770f",
   "metadata": {},
   "outputs": [],
   "source": [
    "!pwd"
   ]
  },
  {
   "cell_type": "code",
   "execution_count": null,
   "id": "59b91681",
   "metadata": {
    "tags": []
   },
   "outputs": [],
   "source": [
    "%matplotlib inline\n",
    "import numpy as np\n",
    "import scipy as sp\n",
    "import matplotlib.pyplot as plt"
   ]
  },
  {
   "cell_type": "code",
   "execution_count": null,
   "id": "f337207c",
   "metadata": {},
   "outputs": [],
   "source": [
    "data = np.loadtxt('http://www-static.etp.physik.uni-muenchen.de/kurs/Computing/python/nb/data/rohr1.dat')\n",
    "fig = plt.figure(1, figsize=(7,6))  # get handle to matplotlib figure and specify size\n",
    "plt.hist(data) # automatic determination of range and bins\n",
    "#plt.hist(data,bins=100, range=(-100,100),density=1) # specify range and bins and density flag\n",
    "plt.xlabel('x-coord [$\\mu m$]') # x-axis\n",
    "plt.title('1D Histogram tube positions') # title header\n",
    "plt.grid(True)"
   ]
  },
  {
   "cell_type": "markdown",
   "id": "17ef3c90",
   "metadata": {},
   "source": [
    "##### Can be extended to 2-D (and more...) "
   ]
  },
  {
   "cell_type": "code",
   "execution_count": null,
   "id": "3cf00e30",
   "metadata": {
    "scrolled": true
   },
   "outputs": [],
   "source": [
    "data2 = np.loadtxt('http://www-static.etp.physik.uni-muenchen.de/kurs/Computing/python/nb/data/rohr2.dat')\n",
    "fig = plt.figure(1, figsize=(9,6))  # get handle to matplotlib figure and specify size\n",
    "plt.hist2d(data2[:,0],data2[:,1], bins=30, cmap='Blues')\n",
    "cb = plt.colorbar()\n",
    "cb.set_label('counts in bin')\n",
    "plt.xlabel('x-coord [$\\mu m$]') # x-axis\n",
    "plt.ylabel('y-coord [$\\mu m$]') # x-axis\n",
    "plt.title('2D Histogram tube positions'); # title header\n"
   ]
  },
  {
   "cell_type": "markdown",
   "id": "eda937be",
   "metadata": {},
   "source": [
    "### Characterizing data contd\n",
    "\n",
    "#### Mean value:\n",
    "Most common way to describe a dataset ${(x_1, x_2, ... , x_N)}$ with a single value is the **arithmetic mean**:\n",
    "\n",
    "$$\\bar{x} = \\frac{\\sum_{i=1}^{N} x_i}{N}$$\n",
    "\n",
    "Useful for many cases, but there are more alternatives:\n",
    "\n",
    "**Geometric mean**: $$ \\sqrt[N]{x_1 \\cdot x_2 \\cdot ... \\cdot x_N}$$\n",
    "\n",
    "**Harmonic mean**: $$ \\left( \\frac{N}{1/x_1 + 1/x_2 + ... + 1/x_N}\\right)^{-1} $$\n",
    "\n",
    "**Median**: \n",
    "* the value in the middle, i.e. half of the values are smaller, the other half is larger\n",
    "* very useful for datasets were the underlying distibution is not known or has large tails\n",
    "\n",
    "A simple way to get it is sorting the dataset and then take the value in the middle:\n",
    "$$ Median = x_{N/2} $$\n"
   ]
  },
  {
   "cell_type": "markdown",
   "id": "bfafc7fc",
   "metadata": {
    "tags": []
   },
   "source": [
    "#### Width\n",
    "Besides the mean the 2nd important quantity to characterize data \n",
    "\n",
    "Most common is the **variance**:\n",
    "    $$V(x) = \\frac{\\sum (x_i - \\bar{x})^2}{N} = \\frac{\\sum x_i^2}{N} - \\bar{x}^2$$\n",
    "    \n",
    "or the **standard-deviation**:\n",
    " $$\\sigma(x) = \\sqrt{V(x)} = \\sqrt{ \\frac{\\sum (x_i - \\bar{x})^2}{N}} = \\sqrt{\\frac{\\sum x_i^2}{N} - \\bar{x}^2 }$$\n",
    " \n",
    " Further option would be:\n",
    "  $$ \\frac{\\sum |x_i - \\bar{x}|}{N} $$\n",
    "\n",
    "*not very common, ugly mathematical properties ...*\n",
    "\n",
    "\n",
    "More practical are so-called **Quantiles**:\n",
    "* lower Quartil: 25% of values are lower \n",
    "* upper Quartil: 75% of values are lower \n",
    "* take **width** as difference between upper and lower Quartile.\n",
    "* or more general take arbitrary **Percentile**: XX% Percentile = XX% of values are smaller."
   ]
  },
  {
   "cell_type": "code",
   "execution_count": null,
   "id": "a9ee860c-6e2f-4567-b33e-e31f8709c830",
   "metadata": {},
   "outputs": [],
   "source": [
    "# example with numpy\n",
    "import numpy as np\n",
    "mydata=np.random.normal(10.,2.,10000) # Gaussian distributed random numbers, mean=10, std=2\n",
    "\n",
    "# mean and std are directly available as methods for mumpy array\n",
    "print(f\"Mean={mydata.mean():.3f}, Std={mydata.std():.3f} \")\n",
    "\n",
    "# median and quantile are general numpy methods\n",
    "print(f\"Median={np.median(mydata):.3f}\")\n",
    "# quantile takes list of desired percentiles as input parameter and returns corresponding list\n",
    "mydq = np.quantile(mydata,(0.05,0.25,0.5,0.75,0.95)) \n",
    "print(mydq)"
   ]
  },
  {
   "cell_type": "markdown",
   "id": "fb7ac144",
   "metadata": {},
   "source": [
    "#### Higher powers\n",
    "\n",
    "An obvious extension to arithmetic mean and variance are higher powers:\n",
    "\n",
    "$$ \\mbox{Skew} = \\frac{\\sum (x_i - \\bar{x})^3}{N \\sigma^3}$$\n",
    "\n",
    "*(Factor $1/\\sigma^3$ makes Skew dimensionless)*\n",
    "\n",
    "Skew ist useful to characterise asymmetries, it is positive in case of tails to high values (and v.v.), it is ~0 for symmetric distributions.\n",
    "\n",
    "\n"
   ]
  },
  {
   "cell_type": "code",
   "execution_count": null,
   "id": "354a440b-b4e8-4419-a3ba-112c689d1a4d",
   "metadata": {},
   "outputs": [],
   "source": [
    "# skew function in scipy.stats\n",
    "from scipy.stats import skew\n",
    "skew(mydata)"
   ]
  },
  {
   "cell_type": "markdown",
   "id": "62a907f6",
   "metadata": {},
   "source": [
    "### Multiple variables\n",
    "Often one records simultaneously several quantities per \"Event\"\n",
    "* x,y,z-coordinates\n",
    "* weight and height \n",
    "* exam results in different fields\n",
    "\n",
    "Besides mean and variance of the individual quantities it is important to quantify also dependencies between variables. Similar to **variance** one can define **covariance**: \n",
    "$$cov(x,y) = \\frac{1}{N} \\sum (x_i - \\overline{x}) \\cdot (y_i - \\overline{y}) = \n",
    "\\overline{xy} - \\overline{x} \\cdot \\overline{y}$$\n",
    "\n",
    "* In case high (low) values of $x$ often occur with high (low) values of $y$ then the \n",
    "covarince is positive\n",
    "* the other way round: covariance is negative\n",
    "* in case of independent quantities the covariance is close to zero.\n"
   ]
  },
  {
   "cell_type": "markdown",
   "id": "26a8e4ee",
   "metadata": {},
   "source": [
    "A better measure to quantify the dependency is the **correlation**  \n",
    "$$ \\rho \\equiv \\frac{cov(x,y)}{\\sigma(x) \\sigma(y)}$$\n",
    "with $ -1 \\le \\rho \\le 1$.\n",
    "\n",
    "$\\rho = \\pm 1 $ mean full correlation, the values of y are fully determined by x (or v.v.) and do not provide additional information.\n",
    "\n"
   ]
  },
  {
   "cell_type": "markdown",
   "id": "129f65a7",
   "metadata": {},
   "source": [
    "#### correlation examples\n",
    "\n",
    "<table>\n",
    "    <tr><td>\n",
    "    <img src='../figures/cor_0.0.png' width=\"300\" height=\"300\"></td><td><img src='../figures/cor_m0.50.png' width=\"300\" height=\"300\"></td></tr>\n",
    "    <tr><td>\n",
    "    <img src='../figures/cor_0.90.png' width=\"300\" height=\"300\"></td><td><img src='../figures/cor_m0.98.png' width=\"300\" height=\"300\"></td></tr>\n",
    "\n",
    "</table>"
   ]
  },
  {
   "cell_type": "code",
   "execution_count": null,
   "id": "c87fb5e6-3c9a-409e-86d5-6abcda189bde",
   "metadata": {},
   "outputs": [],
   "source": [
    "# correlation illustration in notebook \n",
    "mean =[0, 0]\n",
    "rho = 0.7\n",
    "cov = [[1, rho], [rho, 1]]\n",
    "x, y = np.random.multivariate_normal(mean, cov, 10000).T # generate correlated random points\n",
    "fig = plt.figure()\n",
    "plt.plot(x,y,'.',label=f\"{rho=}\")\n",
    "plt.legend()\n",
    "plt.grid();\n"
   ]
  },
  {
   "cell_type": "markdown",
   "id": "1f4520bc",
   "metadata": {
    "jp-MarkdownHeadingCollapsed": true,
    "tags": []
   },
   "source": [
    "#### Covariance/correlation matrix\n",
    "This can be generalised to more than 2 variables as **Covariance matrix**:\n",
    " $$V_{ij} = cov( x_{(i)}, y_{(i)} )$$\n",
    " or **correlation matrix**:\n",
    "  $$\\rho_{ij} = \\frac{cov( x_{(i)}, y_{(i)} )}{\\sigma_i \\sigma_j}$$\n",
    "  \n",
    "  These matrices are symmetric $N\\times N$ matrices"
   ]
  },
  {
   "cell_type": "markdown",
   "id": "6d5178d4",
   "metadata": {},
   "source": [
    "## Important Distributions\n",
    "In case of continuous distributions mean and variance are defined as integral over the probability density function (*pdf*).\n",
    " $$\\mbox{ Mean:  } \\bar{x} = \\int_{-\\infty}^{+\\infty} x \\cdot p(x) \\, dx $$\n",
    " $$\\mbox{ Variance:  }V(x) = \\int_{-\\infty}^{+\\infty} (x - \\bar{x})^2 \\cdot p(x) \\, dx $$\n",
    " $$\\mbox{ Standard deviation:  } \\sigma(x) = \\sqrt{V(x)} $$"
   ]
  },
  {
   "cell_type": "markdown",
   "id": "0adbe972",
   "metadata": {},
   "source": [
    "### Uniform distribution\n",
    "The simplest distribution, all values in a specified Interval are equally likely:\n",
    "$$p(x) = \\frac{1}{b-a} \\,\\, \\forall \\, x \\in [a,b], \\, 0\\,  else$$\n",
    "\n",
    "Important for all kinds of gambling and basis for random number generators, simulations and also nice test case:\n",
    "\n",
    "Take a uniform distribution  in $[0,1]$. It's rather straightforward to show that the mean is $0.5$ and the \n",
    "variance $\\sigma^2 = 1/12$.\n",
    "\n",
    "[//]:![Gleichverteilung](../figures/gleichv1.png)"
   ]
  },
  {
   "cell_type": "code",
   "execution_count": null,
   "id": "1f2099c8",
   "metadata": {},
   "outputs": [],
   "source": [
    "# uniform dist demo\n",
    "data = np.random.random(10000)-0.5\n",
    "plt.hist(data,bins=100,range=(-1,1), label='uniform dist');\n",
    "plt.legend()\n",
    "plt.grid()"
   ]
  },
  {
   "cell_type": "markdown",
   "id": "b80a8ca7",
   "metadata": {},
   "source": [
    "### Binomial distribution\n",
    "Describes experiments with 2 possible outcomes. A simple example is  tossing of a coin.\n",
    "\n",
    "What is the probability to get $k$ times *head* in $n$ tries ($p$ is the probabilty for *head* for single toss)\n",
    "\n",
    "One special case would be to obtain *head* in the first $k$ tosses ($p^k$) and *number* in the subsequent *n-k* tosses ($(1-p)^{n-k}$), i.e. the combined probability for this to happen is \n",
    "$$p^k (1-p)^{n-k}$$\n",
    "\n",
    "Taking into account that we are just counting the numbers of occurrences, i.e. that the order of the $k$ heads among the $n$ coin tosses doesn't matter, we find that\n",
    "$${ n \\choose k } = \\frac{n !} { (n-k)! k!}$$\n",
    "such cases exist, each with equal probability.\n",
    "\n",
    "So in total the probability is \n",
    "$$P(k\\,\\times \\, \\mbox{head}) = p^k (1-p)^{n-k}{ n \\choose k }$$\n",
    "\n",
    "\n",
    "\n",
    "Mean and variance of the binomial distribution are:\n",
    "$$ \\bar{x} = n p , \\; \\; \\sigma^2 = n p (1-p) $$\n",
    "\n",
    "\n",
    "[//]: ![Binomialverteilung](../figures/bin1.png)\n"
   ]
  },
  {
   "cell_type": "code",
   "execution_count": null,
   "id": "ae9bcd18",
   "metadata": {},
   "outputs": [],
   "source": [
    "# Binomial Plot plot demo\n",
    "import matplotlib.pyplot as plt\n",
    "import numpy as np\n",
    "from scipy import stats\n",
    "\n",
    "fig = plt.figure(1, figsize=(15,6))\n",
    "nt = [ 3, 6, 10]\n",
    "p=0.3\n",
    "for i,n in enumerate(nt):\n",
    "    ax1 = fig.add_subplot(1, len(nt), 1+i)  # multiple plots: 3x1 , index 1\n",
    "    x=np.arange(nt[-1]+1)\n",
    "    rvp=stats.binom(n,p)\n",
    "    plt.bar(x,rvp.pmf(x))\n",
    "    s = f\"Binomial {p=:6.2f} , {n=}\"\n",
    "    ax1.text(0.6, 0.95, s, ha='center', va='top', transform = ax1.transAxes)\n"
   ]
  },
  {
   "cell_type": "markdown",
   "id": "ddcb23d3",
   "metadata": {},
   "source": [
    "### Poisson distribution\n",
    "The binomial distribution changes to the Poisson distribution in the limit for \n",
    "$$n \\rightarrow \\infty,\\; p\\rightarrow 0,\\; np = const$$\n",
    "\n",
    "The Poisson distribtuion is defined as \n",
    "$$P(k) = \\frac{\\mu^k e^{-\\mu}}{k!}$$\n",
    "with $\\mu = n p$.\n",
    "\n",
    "Mean and variance of the Poisson distribution are:\n",
    "$$ \\bar{x} = \\mu , \\; \\; \\sigma^2 = \\mu $$\n",
    "\n",
    "In practical terms the binomial distribution is already reasonably well described by the corresponding Poisson distribution for *small* $n \\approx 10-20$. \n",
    "\n",
    "[//]: ![Poissonverteilung](../figures/bin_poiss.png)"
   ]
  },
  {
   "cell_type": "code",
   "execution_count": null,
   "id": "314b2b05",
   "metadata": {},
   "outputs": [],
   "source": [
    "# Poisson plot demo\n",
    "import matplotlib.pyplot as plt\n",
    "import numpy as np\n",
    "from scipy import stats\n",
    "\n",
    "fig = plt.figure(1, figsize=(15,6))\n",
    "mv = [ 0.5, 2., 6.]\n",
    "for i,meanv in enumerate(mv):\n",
    "    ax1 = fig.add_subplot(1, len(mv), 1+i)  # multiple plots: 3x1 , index 1\n",
    "    x=np.arange(20)\n",
    "    rvp=stats.poisson(meanv)\n",
    "    plt.bar(x,rvp.pmf(x))\n",
    "    s = f\"Poisson mu =  {meanv:6.2f}\"\n",
    "    ax1.text(0.5, 0.95,s, ha='center', va='top', transform = ax1.transAxes)\n"
   ]
  },
  {
   "cell_type": "markdown",
   "id": "628c9cd8-dcd8-42fc-a593-b7f054a700b7",
   "metadata": {},
   "source": [
    "#### Compare Binomial and Poisson"
   ]
  },
  {
   "cell_type": "code",
   "execution_count": null,
   "id": "a6965122",
   "metadata": {},
   "outputs": [],
   "source": [
    "# Binomial vs Poisson Plot plot demo\n",
    "import matplotlib.pyplot as plt\n",
    "import numpy as np\n",
    "from scipy import stats\n",
    "\n",
    "fig = plt.figure(1, figsize=(15,6))\n",
    "nt = [ 5, 10, 20]\n",
    "\n",
    "scales=['linear','log']\n",
    "for ipl,scale in enumerate(scales):\n",
    "    ax1 = fig.add_subplot(1, 2, ipl+1)  # multiple plots: 2x1 , index 1\n",
    "    colors='rgbcmyk'\n",
    "    for i,n in enumerate(nt):\n",
    "        p = 3/n\n",
    "        x=np.arange(nt[-1]+1)\n",
    "        rvp=stats.binom(n,p)\n",
    "        s = f\"Binomial p={p:6.2f} , n={n}\"\n",
    "        ax1.bar(x,rvp.pmf(x), width=1,alpha=0.2, label=s, fill=1, linewidth=2)#,edgecolor=colors[i])# , hatch=hatchs[i])\n",
    "\n",
    "    meanv = 3\n",
    "    rvp=stats.poisson(meanv)\n",
    "    s = f\"Poisson mu =  {meanv:6.2f}\"\n",
    "    ax1.bar(x,rvp.pmf(x),width=1,label=s,fill=0,edgecolor='k')\n",
    "    ax1.legend()\n",
    "    ax1.set_ylim(ymin=1e-6)\n",
    "    ax1.set_yscale(scale)\n",
    "\n"
   ]
  },
  {
   "cell_type": "markdown",
   "id": "ddef1cd8",
   "metadata": {},
   "source": [
    "#### Poisson--Statistic showcase in the Prussian army\n",
    "\n",
    "A classical example in statistics textbooks is the statistics of the prussian army  on deadly accidents due to horse-kicks counted by army corps and year. \n",
    "\n",
    "Over 20 years and  10 corps ($ = 200 $ corps-years) one counted in total 122 deadly cases. \n",
    "\n",
    "This yields $ \\mu = 122/200 = 0.61$.\n"
   ]
  },
  {
   "cell_type": "markdown",
   "id": "e1e30d71",
   "metadata": {},
   "source": [
    "![Preussenstatistik](../figures/preussenstat.png)"
   ]
  },
  {
   "cell_type": "markdown",
   "id": "cc788c34",
   "metadata": {},
   "source": [
    "### Gaussian or Normal distribution\n",
    "The most important distribution in statistics\n",
    " $$G(x|\\mu,\\sigma) = \\frac{1}{\\sqrt{2\\pi} \\, \\sigma}\n",
    "e^{-\\frac{(x-\\mu)^2}{2\\sigma^2}}$$\n",
    "\n",
    "with mean $\\mu$  and variance $\\sigma^2$.\n",
    "\n",
    "For large $\\mu$  the poisson distribution converges to the Gaussian distribution, in practice already for  $\\mu \\approx 10$ is a reasonable approximation.\n",
    "\n",
    "And similarly the binomial distribution converges to the Gaussian in case of large *n* and *np* .\n",
    "\n",
    "[//]:![Gaussverteilung](../figures/bin_poiss_ga.png)"
   ]
  },
  {
   "cell_type": "code",
   "execution_count": null,
   "id": "31290275",
   "metadata": {},
   "outputs": [],
   "source": [
    "# Gauss vs Poisson Plot plot demo\n",
    "import matplotlib.pyplot as plt\n",
    "import numpy as np\n",
    "from scipy import stats\n",
    "\n",
    "fig = plt.figure(1, figsize=(15,10))\n",
    "nt = [ 5, 10, 20]\n",
    "\n",
    "mva=[[6,20],[20,50],[100,200]]\n",
    "\n",
    "ipl = 0\n",
    "for meanv,nx in mva:\n",
    "    scales=['linear','log']\n",
    "    for scale in scales:\n",
    "        ipl += 1\n",
    "        ax1 = fig.add_subplot(3, 2, ipl)  # multiple plots: 2x1 , index 1\n",
    "        x=np.arange(nx)\n",
    "        rvp=stats.poisson(meanv)\n",
    "        s = f\"Poisson mu =  {meanv:6.2f}\"\n",
    "        ax1.bar(x,rvp.pmf(x),width=1,alpha=0.4,label=s)#\n",
    "\n",
    "        s = f\"Gauss mean =  {meanv:6.2f} +- {meanv**0.5:6.2f}\"\n",
    "        rvn=stats.norm(meanv,meanv**0.5)\n",
    "        xv = np.linspace(x[0],x[-1],50)\n",
    "        plt.plot(xv,rvn.pdf(xv),'r-',label=s);\n",
    "\n",
    "        ax1.legend()\n",
    "        ax1.set_ylim(ymin=1e-6)\n",
    "        ax1.set_yscale(scale)\n"
   ]
  },
  {
   "cell_type": "markdown",
   "id": "d6b00f4a",
   "metadata": {},
   "source": [
    "#### Distribution summary\n",
    "\n",
    "![BPG](../figures/BPG.png)"
   ]
  },
  {
   "cell_type": "markdown",
   "id": "c04320bf",
   "metadata": {},
   "source": [
    "### Central limit theorem\n",
    "The most fundamental theorem in statistics:\n",
    "\n",
    "For a set of independent random variables $x_i$ with means $\\mu_i$ and variances $\\sigma_i^2$ the quantity \n",
    "$ y = \\sum x_i$ becomes a Gaussian with mean $\\sum_j\\mu_j$ and variance $\\sum_j\\sigma_j^2$ for large $n$.\n",
    "\n",
    "The underlying distribution of the $x_i$ does not matter, e.g. if you pick random variables which are uniformly distributed or exponentially, the mean $y$ will follow approximately a normal (Gaussian) distribution.\n",
    "\n",
    "$\\rightarrow$ we will demonstrate it in the exercises\n",
    "\n",
    "\n",
    "The central limit theorem is the reason for the exceptional importance of the Gaussian distribution."
   ]
  },
  {
   "cell_type": "markdown",
   "id": "50bd09df",
   "metadata": {},
   "source": [
    "---\n",
    "## Exercises\n"
   ]
  },
  {
   "cell_type": "markdown",
   "id": "d773ad30",
   "metadata": {},
   "source": [
    "#### 1) Statistics for Rohr data\n",
    "Take above example with the *(x,y)* coordinates of wire positions\n",
    "* get basic statistics: mean value and standard deviation of x and y\n",
    "* get median and 25/75% quantiles *(numpy functions)*\n",
    "* determine correlation between x and y *(np.corrcoef function)*"
   ]
  },
  {
   "cell_type": "code",
   "execution_count": null,
   "id": "a5241b01",
   "metadata": {},
   "outputs": [],
   "source": [
    "# load data\n",
    "import numpy as np\n",
    "data2 = np.loadtxt('http://www-static.etp.physik.uni-muenchen.de/kurs/Computing/python/nb/data/rohr2.dat')\n",
    "x = data2[:,0]\n",
    "y = data2[:,1]"
   ]
  },
  {
   "cell_type": "markdown",
   "id": "a6e5d781",
   "metadata": {},
   "source": [
    "#### 2) Weather data \n",
    "The code cell below loads Zugspitze weather data, extracts field for daily rain-fall and converts it into numpy array.\n",
    "\n",
    "* make histogram (*Hint: log-yscale might be useful:* ```plt.yscale('log')```  )\n",
    "* Determine as well basic statistics: mean, std, median, 5%, 25%, 75%, 95% quantiles\n"
   ]
  },
  {
   "cell_type": "code",
   "execution_count": null,
   "id": "4fe067d1",
   "metadata": {},
   "outputs": [],
   "source": [
    "import matplotlib.pyplot as plt\n",
    "import pandas as pd\n",
    "import datetime\n",
    "import numpy as np\n",
    "# csv data file from zip file dowlnoad from \n",
    "# http://www.dwd.de/DE/leistungen/klimadatendeutschland/klarchivtagmonat.html\n",
    "# Messdatum als index und Interpretation als Datum (nicht nur String) \n",
    "#\n",
    "df=pd.read_csv('http://www-static.etp.physik.uni-muenchen.de/kurs/Computing/sw/source/produkt_klima_tag_19000801_20181231_05792.txt',';\\s*',index_col='MESS_DATUM',parse_dates=['MESS_DATUM'],engine='python')\n",
    "dfr=df['RSK'][df['RSK']>=0] # extract daily rain and cleanup (only entries >= 0)\n",
    "rain=np.array(dfr) # convert into numpy array"
   ]
  },
  {
   "cell_type": "markdown",
   "id": "57caeb2e",
   "metadata": {},
   "source": [
    "#### 3) scipy.stats\n",
    "provides many statistical tools and functions.\n",
    "* The codebox below compares Poisson and Gaussian distribution .\n",
    "  * vary the mean-value and check difference between Poisson and Gaussian\n",
    "* Using ```rvp=stats.poisson(0.61)``` you can generate a Poisson corresponding to the prussian army accident statistics. Using ```rvp.pms(anum)``` you get the probability that ```anum``` accidents occur. Verify the table presented above. \n"
   ]
  },
  {
   "cell_type": "code",
   "execution_count": null,
   "id": "a8bb6498",
   "metadata": {},
   "outputs": [],
   "source": [
    "import matplotlib.pyplot as plt\n",
    "import numpy as np\n",
    "from scipy import stats\n",
    "x=np.arange(30)\n",
    "meanv=15.\n",
    "rvp=stats.poisson(meanv)\n",
    "rvn=stats.norm(meanv,np.sqrt(meanv))\n",
    "plt.bar(x,rvp.pmf(x))\n",
    "plt.plot(x,rvn.pdf(x));\n",
    "#plt.yscale('log')"
   ]
  },
  {
   "cell_type": "markdown",
   "id": "82309715",
   "metadata": {},
   "source": [
    "#### 4) Central limit theorem\n",
    "The codebox sums ```nval``` uniform random numbers distributed between *[-0.5,0.5]*\n",
    "\n",
    "Check how the shape changes when you increase ```nval``` and how it more and more approaches a Gaussian shape.\n",
    "\n",
    "In case of ```nval == 12``` it approaches a normal distribution with mean 0 and std 1.\n",
    "\n",
    "*(Enable commented part of code to overlay gaussian)*\n",
    "\n"
   ]
  },
  {
   "cell_type": "code",
   "execution_count": null,
   "id": "a99d464d",
   "metadata": {
    "scrolled": true
   },
   "outputs": [],
   "source": [
    "nval = 5\n",
    "a=[sum(np.random.random(nval)-0.5) for _ in range(10000)]\n",
    "plt.hist(a,bins=50,density=1); \n",
    "\n",
    "#biny,binx,myobj=plt.hist(a,bins=50,density=1) # make histo and retrieve bin coordinates\n",
    "#rvn=stats.norm(0,1) # get normal dist\n",
    "#plt.plot(binx,rvn.pdf(binx)) # plot normal dist"
   ]
  },
  {
   "cell_type": "code",
   "execution_count": null,
   "id": "276714be",
   "metadata": {},
   "outputs": [],
   "source": [
    "# fit gaussian\n",
    "gp=stats.norm.fit(a)\n",
    "print('gaussian fit :', gp)\n",
    "rvn=stats.norm(*gp)\n",
    "p,x,*r=plt.hist(a,bins=50,density=1) \n",
    "plt.plot(x,rvn.pdf(x));\n",
    "#plt.yscale('log')"
   ]
  },
  {
   "cell_type": "code",
   "execution_count": null,
   "id": "59fa523f-5615-4299-977a-94520791a006",
   "metadata": {},
   "outputs": [],
   "source": []
  }
 ],
 "metadata": {
  "kernelspec": {
   "display_name": "Python 3",
   "language": "python",
   "name": "python3"
  },
  "language_info": {
   "codemirror_mode": {
    "name": "ipython",
    "version": 3
   },
   "file_extension": ".py",
   "mimetype": "text/x-python",
   "name": "python",
   "nbconvert_exporter": "python",
   "pygments_lexer": "ipython3",
   "version": "3.9.5"
  }
 },
 "nbformat": 4,
 "nbformat_minor": 5
}
