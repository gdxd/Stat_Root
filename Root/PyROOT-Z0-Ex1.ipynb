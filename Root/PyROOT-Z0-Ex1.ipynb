{
 "cells": [
  {
   "cell_type": "code",
   "execution_count": null,
   "metadata": {
    "collapsed": false,
    "jupyter": {
     "outputs_hidden": false
    }
   },
   "outputs": [],
   "source": [
    "# basic setup\n",
    "import numpy as np\n",
    "import ROOT\n",
    "%jsroot on"
   ]
  },
  {
   "cell_type": "code",
   "execution_count": null,
   "metadata": {
    "collapsed": false,
    "jupyter": {
     "outputs_hidden": false
    }
   },
   "outputs": [],
   "source": [
    "# open files and trees\n",
    "# (keep open to avoid fun with root object ownership ...)\n",
    "#\n",
    "samples = ['ee','mm','tt','mh']\n",
    "files = {}\n",
    "trees={}\n",
    "\n",
    "\n",
    "for s in samples:\n",
    "    url = \"http://www.etp.physik.uni-muenchen.de/kurs/comp10/uebungen/Z0-Versuch/data/ntz0\"+s+\"mc.root\"\n",
    "    f = ROOT.TFile.Open(url)\n",
    "    files[s]=f\n",
    "    mytree = f.Get(\"h5000\")\n",
    "    trees[s] = mytree\n"
   ]
  },
  {
   "cell_type": "code",
   "execution_count": null,
   "metadata": {
    "collapsed": false,
    "jupyter": {
     "outputs_hidden": false
    },
    "scrolled": true
   },
   "outputs": [],
   "source": [
    "# create histos and fill\n",
    "#\n",
    "\n",
    "hlist = {}\n",
    "for s in samples:    \n",
    "    htag = \"hnct_\"+s\n",
    "    h1 = ROOT.TH1F(htag,\"N Tracks\", 50, 0, 50) #  Buche 1d Histo\n",
    "    print ('Create Histo : ' + htag)\n",
    "    trees[s].Draw(\"Ncharged>>\"+htag)\n",
    "\n",
    "    hlist[htag] = h1 # store hist in dict\n"
   ]
  },
  {
   "cell_type": "code",
   "execution_count": null,
   "metadata": {
    "collapsed": false,
    "jupyter": {
     "outputs_hidden": false
    }
   },
   "outputs": [],
   "source": [
    "# Draw histos in Canvas\n",
    "#\n",
    "canv = ROOT.TCanvas(\"canv\",\"myCanvas\",700,700)\n",
    "canv.Divide(2,2) # 2 by 2 pads\n",
    "ipad = 0\n",
    "for k,h in hlist.items():\n",
    "    ipad += 1\n",
    "    canv.cd(ipad)\n",
    "    h.Draw()\n",
    "\n",
    "canv.Draw()"
   ]
  },
  {
   "cell_type": "code",
   "execution_count": null,
   "metadata": {},
   "outputs": [],
   "source": []
  }
 ],
 "metadata": {
  "kernelspec": {
   "display_name": "Python 3 (ipykernel)",
   "language": "python",
   "name": "python3"
  },
  "language_info": {
   "codemirror_mode": {
    "name": "ipython",
    "version": 3
   },
   "file_extension": ".py",
   "mimetype": "text/x-python",
   "name": "python",
   "nbconvert_exporter": "python",
   "pygments_lexer": "ipython3",
   "version": "3.9.7"
  }
 },
 "nbformat": 4,
 "nbformat_minor": 4
}
