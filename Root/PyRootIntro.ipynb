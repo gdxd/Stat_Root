{
 "cells": [
  {
   "cell_type": "markdown",
   "id": "9c23262e-2827-4423-8b4f-9f82937a8cd1",
   "metadata": {},
   "source": [
    "## Working with ROOT -- python\n",
    "\n",
    "For interactive work jupyter notebook is rather convenient, both for Python and C++ interface.\n",
    "\n",
    "ROOT home page: https://root.cern/\n",
    "\n",
    "Detailed ROOT tutorial: https://www.nevis.columbia.edu/~seligman/root-class/\n",
    "\n",
    "ROOT is not default package for python, it requires special installation and setup: \n",
    "\n",
    "Select environment Environment `root/6.24.02 ` when you start on *jupyterhub* on *https://workshop.physik.uni-muenchen.de* \n",
    "\n",
    "Then do `import ROOT` to get access to ROOT classes and functions"
   ]
  },
  {
   "cell_type": "code",
   "execution_count": null,
   "id": "762fc894-59e3-40ae-883e-5f52e249f0c7",
   "metadata": {},
   "outputs": [],
   "source": [
    "import ROOT\n",
    "# enable interactive plotting features\n",
    "%jsroot on "
   ]
  },
  {
   "cell_type": "markdown",
   "id": "04c2bb97-35de-4165-ae35-6aaf834ead18",
   "metadata": {},
   "source": [
    "### Python/ROOT as pocket calculator"
   ]
  },
  {
   "cell_type": "code",
   "execution_count": null,
   "id": "b85832a0-6954-4135-b8e8-e9e192b0d32f",
   "metadata": {},
   "outputs": [],
   "source": [
    "sin(0.5) # does not work -- sin not known"
   ]
  },
  {
   "cell_type": "code",
   "execution_count": null,
   "id": "6585c91a-0b67-4c1d-964b-9f10e73a143f",
   "metadata": {},
   "outputs": [],
   "source": [
    "import math # need module math\n",
    "math.sin(0.5)"
   ]
  },
  {
   "cell_type": "code",
   "execution_count": null,
   "id": "13c82ccd-286c-4ef9-aab5-5578354599f8",
   "metadata": {},
   "outputs": [],
   "source": [
    "math.atan(1)*4"
   ]
  },
  {
   "cell_type": "code",
   "execution_count": null,
   "id": "4271e65b-3486-4211-af4a-b11608dcbc2f",
   "metadata": {},
   "outputs": [],
   "source": [
    "# or equivalent using ROOT.TMath funcs:\n",
    "ROOT.TMath.Sin(0.5)"
   ]
  },
  {
   "cell_type": "code",
   "execution_count": null,
   "id": "81f903f8-be21-49d1-a2ca-2dd735481252",
   "metadata": {},
   "outputs": [],
   "source": [
    "ROOT.TMath.ATan(1)*4"
   ]
  },
  {
   "cell_type": "code",
   "execution_count": null,
   "id": "dfa0ddd2-275c-4cdf-a0c9-a4582160c18e",
   "metadata": {},
   "outputs": [],
   "source": [
    "# check what functions are available\n",
    "help(ROOT.TMath)"
   ]
  },
  {
   "cell_type": "markdown",
   "id": "81298e2d-e48b-48f9-884f-34e721c69804",
   "metadata": {},
   "source": [
    "### ROOT classes\n",
    "ROOT provides users with a huge class library for functions, histograms, random numbers, statistics, I/O , etc.\n",
    "\n",
    "In practice, working with ROOT means that you create objects of the respective ROOT classes and then call methods of these objects.\n",
    "\n",
    "Simple examples:\n",
    "\n",
    "#### 1D Histogram ####"
   ]
  },
  {
   "cell_type": "code",
   "execution_count": null,
   "id": "e29a569a-9c83-49fa-bb13-60699967e2d2",
   "metadata": {},
   "outputs": [],
   "source": [
    "import ROOT\n",
    "\n",
    "# book histo,\n",
    "# arguments: tag, title, N-channels, xlow, x-high\n",
    "myhist1 = ROOT.TH1F(\"h1\",\"Gauss Random Numbers\",100,-3.,3.)\n",
    "# random generator object\n",
    "rng = ROOT.TRandom()\n",
    "# fill histo in loop\n",
    "for i in range(100000):\n",
    "    xrnd = rng.Gaus() # Gaussian distributed Random number\n",
    "    myhist1.Fill( xrnd ) # Fill random number in histogram\n",
    "\n",
    "# need drawing canvas for jupyter    \n",
    "myc = ROOT.TCanvas(\"myc\",\"myc\",10,10,500,300);     \n",
    "myhist1.Draw() # Draw Histogramm\n",
    "myc.Draw() # draw canvas"
   ]
  },
  {
   "cell_type": "markdown",
   "id": "18c89a26-9dec-41af-b1cc-c23798c74c0d",
   "metadata": {},
   "source": [
    "#### 2D Histogram ####"
   ]
  },
  {
   "cell_type": "code",
   "execution_count": null,
   "id": "f7b098a7-091b-4a12-8889-c0157cb03daf",
   "metadata": {},
   "outputs": [],
   "source": [
    "# 2D hist example\n",
    "myhist2 = ROOT.TH2F(\"h2\",\"2D Gauss Random Numbers\",100,-5.,5.,100,-5.,-5.)\n",
    "# random generator object\n",
    "rng = ROOT.TRandom()\n",
    "# fill histo in loop\n",
    "for i in range(100000):\n",
    "    xrnd = rng.Gaus() # Gaussian distributed Random number\n",
    "    yrnd = rng.Gaus()\n",
    "    myhist2.Fill( xrnd, xrnd+yrnd ) # Fill random number in histogram\n",
    "\n",
    "# in Jupyter we need to create explict Canvas ...\n",
    "c = ROOT.TCanvas(\"c\",\"myCanvas\",50,50,300,200)\n",
    "myhist2.Draw() # Draw Histogramm as scatter plot\n",
    "#myhist2.Draw('lego2') # lego plot\n",
    "# ... and call Draw for Canvas\n",
    "c.Draw()  "
   ]
  },
  {
   "cell_type": "markdown",
   "id": "b1dc6107-d5e4-43e5-91e5-e4a092e62137",
   "metadata": {},
   "source": [
    "many options how to draw 2D histogram, see more in https://root.cern/doc/master/draw2dopt_8C.html\n",
    "\n",
    "\n",
    "### Drawing functions ###"
   ]
  },
  {
   "cell_type": "code",
   "execution_count": null,
   "id": "430cc3c3-0d4e-47f1-a727-de9c7514c530",
   "metadata": {},
   "outputs": [],
   "source": [
    "#myc.Clear()\n",
    "myc = ROOT.TCanvas(\"myc\",\"myc\",10,10,800,600);     \n",
    "myc.Divide(2,2) # make 2x2 subpads\n",
    "myc.cd(1)\n",
    "f1 = ROOT.TF1(\"f1\",\"sin(x)\", 0, 10 )\n",
    "f1.Draw()\n",
    "myc.cd(2) # next pad\n",
    "f2 = ROOT.TF1(\"f2\",\"cos(x)\", 0, 10 )\n",
    "f2.SetLineColor(1);\n",
    "f2.Draw()\n",
    "f1.Draw(\"same\")\n",
    "mypad=myc.cd(3)\n",
    "mypad.SetLogy() # log y scale\n",
    "mypad.SetGrid() # grid lines\n",
    "f4 = ROOT.TF1(\"f4\",\"abs(f1)*exp(x)\", 0, 10 )\n",
    "f4.Draw()\n",
    "myc.Draw()\n",
    "\n",
    "\n",
    "\n"
   ]
  },
  {
   "cell_type": "markdown",
   "id": "c71a9321-9508-4e00-b11c-886ddeae6d73",
   "metadata": {},
   "source": [
    "#### x-y Plot with error bars ####\n",
    "Scientific data, in particular in physics, often has errors associated to the y-coordinate (sometimes also to x)"
   ]
  },
  {
   "cell_type": "code",
   "execution_count": null,
   "id": "a988ef1c-db53-42bd-9b79-1d6ac4c7cf77",
   "metadata": {},
   "outputs": [],
   "source": [
    "import numpy as np\n",
    "x = np.linspace(0, 10, 50)\n",
    "y = np.sin(x) + 0.5*np.random.randn(50)\n",
    "ey = np.ones(len(x))*0.7\n",
    "tg = ROOT.TGraphErrors(len(x), x, y, 0, ey) # graph with error bars\n",
    "tg.SetMarkerStyle(20);\n",
    "\n",
    "c = ROOT.TCanvas(\"c\",\"myCanvas\",500,400)\n",
    "tg.Draw('AP')\n",
    "c.Draw()  \n"
   ]
  },
  {
   "cell_type": "markdown",
   "id": "43b67554-b0aa-4eea-999a-0b0ffa8ccc8a",
   "metadata": {},
   "source": [
    "\n",
    "\n",
    "\n",
    "Let's define short helper function to combine canvas and object drawing:"
   ]
  },
  {
   "cell_type": "code",
   "execution_count": null,
   "id": "2f711bf9-8aee-4d3f-8ce6-877b6b55ad24",
   "metadata": {},
   "outputs": [],
   "source": [
    "def nbdraw( myobj, myopts=\"\", mysize=(500,400) ):\n",
    "    \"helper function for drawing in notebook\"\n",
    "    c = ROOT.TCanvas(\"myc\",\"myCanvas\",*mysize);\n",
    "    myobj.Draw(myopts)\n",
    "    c.Draw()  \n",
    "    return c\n",
    "\n",
    "    "
   ]
  },
  {
   "cell_type": "code",
   "execution_count": null,
   "id": "6fffda4c-0bc1-4eb5-a1bb-32812b9f1474",
   "metadata": {},
   "outputs": [],
   "source": [
    "nbdraw(tg, 'AP')"
   ]
  },
  {
   "cell_type": "markdown",
   "id": "03b84143-712a-42ae-be21-79afb233686d",
   "metadata": {},
   "source": [
    "---\n",
    "#### Simple fitting examples ####\n",
    "\n",
    "1. Gaus fit to 1d histogram"
   ]
  },
  {
   "cell_type": "code",
   "execution_count": null,
   "id": "1557816c-88b9-4444-88f7-c9e16f6808f0",
   "metadata": {
    "tags": []
   },
   "outputs": [],
   "source": [
    "fr = myhist1.Fit(\"gaus\")\n",
    "fit = myhist1.GetFunction(\"gaus\")\n",
    "mean = fit.GetParameter(1)\n",
    "emean = fit.GetParError(1)\n",
    "print ( f\" {mean = :.5f}  +-  {emean:.5f}\")\n",
    "# need drawing canvas for jupyter    \n",
    "#myhist1\n",
    "ROOT.gStyle.SetOptFit(1) # global setting to have fit results in stat box\n",
    "nbdraw(myhist1)"
   ]
  },
  {
   "cell_type": "markdown",
   "id": "dc922563-86e8-4845-bea3-d76a4a16879a",
   "metadata": {},
   "source": [
    "---\n",
    "2nd fit example: polynom fit to x-y points in TGraphErrors \n",
    "\n",
    "*try different polynomial degrees*"
   ]
  },
  {
   "cell_type": "code",
   "execution_count": null,
   "id": "e3593b2e-7492-4440-aa42-044f94e0aea8",
   "metadata": {},
   "outputs": [],
   "source": [
    "tgf = tg.Fit(\"pol3\") # fit polynomial 4th order\n",
    "nbdraw(tg,'AP')\n",
    "\n"
   ]
  },
  {
   "cell_type": "markdown",
   "id": "26f51ef2-4393-41c9-8fa3-0e501c5bf54c",
   "metadata": {},
   "source": [
    "#### Exercises - 1 ####\n",
    "ATLAS drift tube postions with ROOT\n",
    "\n",
    "* Read the data from [rohr1.dat](http://www-static.etp.physik.uni-muenchen.de/kurs/comp20/uebungen/source/rohr1.dat) into ROOT\n",
    "\n",
    "* **C++ IO**\n",
    "```\n",
    "ifstream data_file;\n",
    "data_file.open(\"pipe1.dat\");\n",
    "doublex;\n",
    "// book histogram ...\n",
    "while ( data_file >>x ) // reads next value into x\n",
    "{ // Fill histo ...\n",
    "}\n",
    "```\n",
    "* **Python IO**\n",
    "```\n",
    "import numpy as np\n",
    "data = np.loadtxt('rohr1.dat') # read all data in numpy array\n",
    "# book histo ....\n",
    "for x in data: # loop over data\n",
    "  # fill histo\n",
    "```\n",
    "Create a histogram and fill in the values. ( Sample solution: .C , .py )\n",
    "\n",
    "* And the same for [rohr2.dat](http://www-static.etp.physik.uni-muenchen.de/kurs/comp20/uebungen/source/rohr2.dat)  in a 2-dim histogram (*scatter-plot*).\n",
    "\n",
    "```\n",
    "TH2F h2(\"h\",\"mytitle\",nx,xlow,xhigh,ny,ylow,yhigh);\n",
    "...\n",
    "h2.Fill(x,y)\n",
    "```\n",
    "* **C++ IO for x,y**\n",
    "```\n",
    "...\n",
    "while ( data_file >>x >>y) // reads next value pair into x and y\n",
    "```\n",
    "* **Python IO for x,y**\n",
    "```\n",
    "...\n",
    "data2 = np.loadtxt('rohr2.dat') # read all data in numpy array\n",
    "...\n",
    "for x,y in data2: # loop over data2 entries \n",
    "```\n"
   ]
  },
  {
   "cell_type": "markdown",
   "id": "b30d9761-38a1-489e-9b33-e898503503df",
   "metadata": {},
   "source": [
    "---\n",
    "\n",
    "### Simple data analysis ###\n",
    "\n",
    "ROOT enables the efficient and fast analysis of very large amounts of data. \n",
    "In principle of course data can be saved in simple ASCII or .csv  formats and read in and processed with normal python or C/C++ commands. However, this is not very efficient, both in terms of space usage as well as fast I/O.\n",
    "Using ROOT tuples is much more efficient, this way the data and its properties or variables are structured in the so-called tree format (trees).\n",
    "\n",
    "Root trees are optimized for storing and efficiently processing particle physics event data .\n",
    "\n",
    "Typically, events that are recorded in the detector are stored and processed in very different ways.\n",
    "\n",
    "* **Raw data** contain all the detailed information of the sub-detectors, eg the drift times of each tube in the myinspectrometer that registered a signal. This requires a complex, deep tree structure:\n",
    "   * ATLAS -> muon spectrometer ->  chamber ID ->  tube ID -> drift time \n",
    "\n",
    "\n",
    "\n",
    "* **reconstructed data:** tracks in the tracking detectors, blocks or clusters in the calorimeters, reconstructed decay vertices, .... \n",
    "   * Still requires complex tree structure\n",
    "\n",
    "\n",
    "* **Summary data:** reconstructed abstract objects: jets, leptons, photons, missing momentum vector, ... \n",
    "   * still nested data: can be 1, 2, ... n jets, leptons, ....\n",
    "\n",
    "\n",
    "* **Global summary:** number of tracks or jets, energy in calorimeter, ... \n",
    "   * Flat table layout, fixed number of parameters (=columns) per event is sufficient for easy characterization.\n",
    "\n",
    "\n",
    "HEP data analysis at the final stage usually use the latter format...\n"
   ]
  },
  {
   "cell_type": "code",
   "execution_count": null,
   "id": "709c29fe-51c7-4e92-b48e-a17e0685a1c9",
   "metadata": {},
   "outputs": [],
   "source": [
    "import ROOT\n",
    "\n",
    "f=ROOT.TFile.Open(\"http://www.etp.physik.uni-muenchen.de/kurs/comp10/uebungen/Z0-Versuch/data/ntz0mhmc.root\")\n",
    "mytree = ROOT.gROOT.FindObject(\"h5000\") # get access to tree"
   ]
  },
  {
   "cell_type": "code",
   "execution_count": null,
   "id": "abd32c58-7b5a-459a-9867-ba527346b8c6",
   "metadata": {},
   "outputs": [],
   "source": [
    "mytree.Print()"
   ]
  },
  {
   "cell_type": "code",
   "execution_count": null,
   "id": "283ca523-6974-40dc-b0ed-632cfde07469",
   "metadata": {},
   "outputs": [],
   "source": [
    "c = ROOT.TCanvas(\"c\",\"myCanvas\",500,400)\n",
    "#mytree.Draw(\"Ncharged+N_ecal\")   # fuellt 1D Histogramm mit Variable Ncharged (automatische Histo Erzeugung)\n",
    "#mytree.Draw(\"N_ecal:Ncharged\")   # fuellt 2D Histogramm mit Variable Ncharged vs N_ecal\n",
    "h1 = ROOT.TH1F(\"nc\",\"N Tracks\", 50, 0, 50) #  Buche 1d Histo\n",
    "#mytree.Draw(\"Ncharged>>nc\")  # fuellt 1D Histogramm mit Variable Ncharged in gebuchtes Histo\n",
    "mytree.Draw(\"Ncharged>>nc\",\"E_ecal>10\") #  fuellt 1D Histogramm mit Variable Ncharged wenn Cut erfuellt ist\n",
    "c.Draw()  "
   ]
  },
  {
   "cell_type": "markdown",
   "id": "ac96f489-0904-4656-9ab8-09700cfc77f7",
   "metadata": {},
   "source": [
    "#### Exercises - 2 ####\n",
    "\n",
    "* Plot the distributions (1D histograms) of important quantities like Ncharged, E_ecal, Pcharged for the datasets with simulated events: ntz0mhmc.root (quark/hadron decays), ntz0eemc.root (electron/positron), ntz0mmmc.root (muon), ntz0ttmc .root (tau)\n",
    "\n",
    "* Example notebook for processing the files/trees and creating/plotting the histograms: PyROOT-Z0-Ex1.ipynb\n",
    "\n",
    "* Make 2D histograms for the three combinations of Ncharged, E_ecal, Pcharged for both the simulated datasets and the detector data (ntz0e4.root).\n",
    "\n"
   ]
  },
  {
   "cell_type": "code",
   "execution_count": null,
   "id": "78a21abb-1f87-4a42-af03-2482b980d0e9",
   "metadata": {},
   "outputs": [],
   "source": []
  }
 ],
 "metadata": {
  "kernelspec": {
   "display_name": "Python 3",
   "language": "python",
   "name": "python3"
  },
  "language_info": {
   "codemirror_mode": {
    "name": "ipython",
    "version": 3
   },
   "file_extension": ".py",
   "mimetype": "text/x-python",
   "name": "python",
   "nbconvert_exporter": "python",
   "pygments_lexer": "ipython3",
   "version": "3.9.5"
  }
 },
 "nbformat": 4,
 "nbformat_minor": 5
}
