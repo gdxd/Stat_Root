{
 "cells": [
  {
   "cell_type": "markdown",
   "id": "f36c4698-f82e-428f-89d6-43806e3911d4",
   "metadata": {},
   "source": [
    "# What is ROOT ? #\n",
    "\n",
    "Program package for data acquisition, simulation and data analysis which is being developed at CERN (European Center for Particle Physics, Geneva).\n",
    "\n",
    "*  based on C++\n",
    "*  object oriented\n",
    "\n",
    "ROOT provides a variety of objects/functions\n",
    "\n",
    "* Data I/O\n",
    "* and data management\n",
    "* simulation\n",
    "* analysis\n",
    "* statistics\n",
    "* visualization\n",
    "\n",
    "ROOT is a central part of the reconstruction and analysis software of all current experiments in particle physics and is also used a lot in other areas.\n",
    "\n",
    "ROOT can be used both as a tool-kit in larger, standalone programs and for interactive data analysis and visualization.\n",
    "\n",
    "We limit ourselves to the latter which is just a small part of the functionality:\n",
    "\n",
    "* interactive work optionally using the C++ interpreter (CINT or CLANG)\n",
    "* or Python (pyROOT)\n",
    "* Execute directly from shell/command line\n",
    "* or via Jupyter Notebooks\n"
   ]
  },
  {
   "cell_type": "markdown",
   "id": "b436a207-e661-4b4b-9612-1d69dda96a8d",
   "metadata": {},
   "source": [
    "## Working with ROOT -- C++\n",
    "\n",
    "For interactive work jupyter notebook is rather convenient, both for Python and C++ interface.\n",
    "\n",
    "ROOT home page: https://root.cern/\n",
    "\n",
    "Detailed ROOT tutorial: https://www.nevis.columbia.edu/~seligman/root-class/\n",
    "\n",
    "\n",
    "\n",
    "ROOT is not default package for python, it requires special installation and setup: \n",
    "\n",
<<<<<<< HEAD
    "\n",
    "Select environment Environment `root/6.24.02 ` when you start *jupyterhub* on \n",
    "\n",
    "https://jupyter.physik.uni-muenchen.de/\n",
=======
    "Select environment Environment `root/6.24.02 ` when you start on *jupyterhub* on *https://jupyter.physik.uni-muenchen.de* \n",
>>>>>>> 8bf3dc9f270d3dd74489c58a6cfc14526e134a04
    "\n",
    "If you start **ROOT C++** notebook then ROOT classes/functions are automatically available\n",
    "\n",
    "ROOT has a C++ interpreter called **cling** built in, i.e. one can enter commands in C++ syntax interactively.\n",
    "There are some pitfalls when working interactively in ROOT/cling, related to object ownership, variable name re-use, etc. If you encounter weird behaviour or messages just restart notebook kernel. \n"
   ]
  },
  {
   "cell_type": "code",
   "execution_count": null,
   "id": "6e2c10a3-ba17-4b5d-baa8-131ce5a15d8b",
   "metadata": {
    "tags": []
   },
   "outputs": [],
   "source": [
    "%jsroot on "
   ]
  },
  {
   "cell_type": "code",
   "execution_count": null,
   "id": "d6eb5ec5-b5a8-4373-bef0-42b0412a50d0",
   "metadata": {
    "tags": []
   },
   "outputs": [],
   "source": [
    "sin(0.5) // does  work funcs known)"
   ]
  },
  {
   "cell_type": "code",
   "execution_count": null,
   "id": "59267cbb-aee9-484b-b29e-1cf2bdc4a711",
   "metadata": {},
   "outputs": [],
   "source": [
    "atan(1)*4"
   ]
  },
  {
   "cell_type": "code",
   "execution_count": null,
   "id": "781b90ed-6593-4707-81b2-bee10734328c",
   "metadata": {
    "tags": []
   },
   "outputs": [],
   "source": [
    "TMath::Sin(0.5) // also ROOT TMath class available"
   ]
  },
  {
   "cell_type": "code",
   "execution_count": null,
   "id": "bebff500-1626-44a9-ae90-41a1ed887757",
   "metadata": {},
   "outputs": [],
   "source": [
    "TMath::ATan(1)*4"
   ]
  },
  {
   "cell_type": "markdown",
   "id": "6ec75758-6843-4bd6-b068-9f51cb741c90",
   "metadata": {},
   "source": [
    "### ROOT classes\n",
    "ROOT provides users with a huge class library for functions, histograms, random numbers, statistics, I/O , etc.\n",
    "\n",
    "In practice, working with ROOT means that you create objects of the respective ROOT classes and then call methods of these objects.\n",
    "\n",
    "Simple examples:\n",
    "\n",
    "#### 1D Histogram ####"
   ]
  },
  {
   "cell_type": "code",
   "execution_count": null,
   "id": "3f0641bb-1542-4ddb-9e91-8dc2698973aa",
   "metadata": {
    "tags": []
   },
   "outputs": [],
   "source": [
    "myc = TCanvas(\"myc\",\"myc\",10,10,500,300);  // create drawing canvas\n"
   ]
  },
  {
   "cell_type": "code",
   "execution_count": null,
   "id": "9db407eb-c085-46a3-915b-cfa61d3f46f8",
   "metadata": {},
   "outputs": [],
   "source": [
    "myc.Clear()"
   ]
  },
  {
   "cell_type": "code",
   "execution_count": null,
   "id": "6445b689-a215-4600-b600-82c82ec6433f",
   "metadata": {},
   "outputs": [],
   "source": [
    "TH1F  myhist1(\"h1\",\"Gauss Random Numbers\",100,-5.,5.);\n",
    "// random generator object\n",
    "TRandom rng; \n",
    "for ( int i = 0; i<100000; i++ ) {\n",
    "    double xrnd = rng.Gaus(); // Gaussian distributed Random number\n",
    "    myhist1.Fill( xrnd ); // Fill random number in histogram\n",
    "}\n",
    "   \n",
    "myhist1.Draw(); // Draw Histogramm\n",
    "myc.Draw(); // draw canvas\n"
   ]
  },
  {
   "cell_type": "markdown",
   "id": "288bc223-bbd0-48b2-a8df-621111f3e44d",
   "metadata": {},
   "source": [
    "#### 2D Histogram ####"
   ]
  },
  {
   "cell_type": "code",
   "execution_count": null,
   "id": "4da5b1bd-bd3f-4680-bac6-176a1b44ee8e",
   "metadata": {},
   "outputs": [],
   "source": [
    "// 2D hist example\n",
    "auto myhist2 = TH2F(\"h2\",\"2D Gauss Random Numbers\",100,-5.,5.,100,-5.,-5.);\n",
    "// random generator object\n",
    "auto rng = TRandom();\n",
    "// fill histo in loop\n",
    "for (int i=0; i<100000; i++ ) {\n",
    "    auto xrnd = rng.Gaus(); // Gaussian distributed Random number\n",
    "    auto yrnd = rng.Gaus();\n",
    "    myhist2.Fill( xrnd, xrnd+yrnd ); // Fill random number in histogram\n",
    "}\n",
    "myhist2.Draw(); // Draw Histogramm as scatter plot\n",
    "//myhist2.Draw(\"lego2\"); // # lego plot\n",
    "// ... and call Draw for Canvas\n",
    "myc.Draw();  "
   ]
  },
  {
   "cell_type": "markdown",
   "id": "47ea2751-2aa7-4f3e-a5d3-2f873d71cbb8",
   "metadata": {},
   "source": [
    "many options how to draw 2D histogram, see more in https://root.cern/doc/master/draw2dopt_8C.html\n",
    "\n",
    "\n",
    "### Drawing functions ###"
   ]
  },
  {
   "cell_type": "code",
   "execution_count": null,
   "id": "5284e038-9b6b-472f-8474-39fa907ac430",
   "metadata": {},
   "outputs": [],
   "source": [
    "myd = TCanvas(\"myd\",\"myd\",10,10,500,300);  // create drawing canvas"
   ]
  },
  {
   "cell_type": "code",
   "execution_count": null,
   "id": "63434446-4405-4058-919a-d3c2344ffa4b",
   "metadata": {},
   "outputs": [],
   "source": [
    "\n",
    "myd.Divide(2,2);// # make 2x2 subpads\n",
    "myd.cd(1);\n",
    "f1 = TF1(\"f1\",\"sin(x)\", 0, 10 );\n",
    "f1.Draw();\n",
    "myd.cd(2); // # next pad\n",
    "f2 = TF1(\"f2\",\"cos(x)\", 0, 10 );\n",
    "f2.SetLineColor(1);\n",
    "f2.Draw();\n",
    "f1.Draw(\"same\");\n",
    "auto mypad=myd.cd(3);\n",
    "// sigh, myc.cd returns pointer\n",
    "mypad->SetLogy();// # log y scale\n",
    "mypad->SetGrid();// # grid lines\n",
    "f4 = TF1(\"f4\",\"abs(f1)*exp(x)\", 0, 10 );\n",
    "f4.Draw();\n",
    "myd.Draw();\n"
   ]
  },
  {
   "cell_type": "code",
   "execution_count": null,
   "id": "ccb80356-93a8-4db9-b64c-fe08395261f8",
   "metadata": {},
   "outputs": [],
   "source": [
    "cg = TCanvas(\"cg\",\"cg\",500,400);"
   ]
  },
  {
   "cell_type": "code",
   "execution_count": null,
   "id": "80cedb05-dcf9-4960-9d42-58df9a29b7ed",
   "metadata": {},
   "outputs": [],
   "source": [
    "cg.Clear()"
   ]
  },
  {
   "cell_type": "code",
   "execution_count": null,
   "id": "7219ebb8-5828-4ec9-aaf3-47ffeeeb53cb",
   "metadata": {},
   "outputs": [],
   "source": [
    "const int np = 50;\n",
    "vector<double> x(np);\n",
    "vector<double> y(np);\n",
    "vector<double> ey(np);\n",
    "auto rng = TRandom();\n",
    "\n",
    "for ( int i=0; i<np; i++){\n",
    "    x[i] = i/5.;\n",
    "    y[i] = sin(x[i]) + 0.5 * rng.Gaus();\n",
    "    ey[i] = 0.7;\n",
    "}\n",
    "// sigh, TGraph doen't take stl vectors, need to use .data funct to access array\n",
    "auto tg = TGraphErrors(np, x.data(), y.data(), 0, ey.data()); // graph with error bars\n",
    "tg.SetMarkerStyle(20);\n",
    "\n",
    "\n",
    "tg.Draw(\"AP\");\n",
    "cg.Draw()  ;\n"
   ]
  },
  {
   "cell_type": "markdown",
   "id": "21fb8292-7dfa-46ca-aeff-a8f52f227b1a",
   "metadata": {},
   "source": [
    "#### Simple fitting examples ####\n",
    "\n",
    "1. Gaus fit to 1d histogram"
   ]
  },
  {
   "cell_type": "code",
   "execution_count": null,
   "id": "3107de33-f9f1-4ebf-92ba-e29d1009b217",
   "metadata": {},
   "outputs": [],
   "source": [
    "myhist1.Fit(\"gaus\");\n",
    "fit = myhist1.GetFunction(\"gaus\");\n",
    "// fit is pointer to func ... *syntax to dereference\n",
    "double mean = (*fit).GetParameter(1);\n",
    "double emean = (*fit).GetParError(1);\n",
    "cout << \"mean = \" << mean  << \"  +- \" << emean << endl;\n",
    "// need drawing canvas for jupyter    \n",
    "//myhist1\n",
    "//ROOT.gStyle.SetOptFit(1) # global setting to have fit results in stat box\n",
    "myhist1.Draw(); // Draw Histogramm\n",
    "myc.Draw(); // draw canvas\n"
   ]
  },
  {
   "cell_type": "markdown",
   "id": "de8f3c68-8583-47ff-8878-df16c5a74400",
   "metadata": {},
   "source": [
    "---\n",
    "\n",
    "2nd fit example: polynom fit to x-y points in TGraphErrors \n",
    "\n",
    "*try different polynomial degrees*"
   ]
  },
  {
   "cell_type": "code",
   "execution_count": null,
   "id": "77c1f902-e147-43c0-bb06-cff0b4c1bf39",
   "metadata": {},
   "outputs": [],
   "source": [
    "tgf = tg.Fit(\"pol4\"); // fit polynomial 4th order\n",
    "tg.Draw(\"AP\");\n",
    "cg.Draw()  ;\n"
   ]
  },
  {
   "cell_type": "markdown",
   "id": "192a6e3f-544a-4733-ad19-76048195e931",
   "metadata": {},
   "source": [
    "---\n",
    "\n",
    "#### Exercises - 1 ####\n",
    "ATLAS drift tube postions with ROOT\n",
    "\n",
    "* Read the data from [rohr1.dat](http://www-static.etp.physik.uni-muenchen.de/kurs/comp20/uebungen/source/rohr1.dat) into ROOT\n",
    "\n",
    "* **C++ IO**\n",
    "```\n",
    "ifstream data_file;\n",
    "data_file.open(\"rohr1.dat\");\n",
    "doublex;\n",
    "// book histogram ...\n",
    "while ( data_file >>x ) // reads next value into x\n",
    "{ // Fill histo ...\n",
    "}\n",
    "```\n",
    "* **Python IO**\n",
    "```\n",
    "import numpy as np\n",
    "data = np.loadtxt('rohr1.dat') # read all data in numpy array\n",
    "# book histo ....\n",
    "for x in data: # loop over data\n",
    "  # fill histo\n",
    "```\n",
    "Create a histogram and fill in the values. ( Sample solution: .C , .py )\n",
    "\n",
    "* And the same for [rohr2.dat](http://www-static.etp.physik.uni-muenchen.de/kurs/comp20/uebungen/source/rohr2.dat)  in a 2-dim histogram (*scatter-plot*).\n",
    "\n",
    "```\n",
    "TH2F h2(\"h\",\"mytitle\",nx,xlow,xhigh,ny,ylow,yhigh);\n",
    "...\n",
    "h2.Fill(x,y)\n",
    "```\n",
    "* **C++ IO for x,y**\n",
    "```\n",
    "...\n",
    "while ( data_file >>x >>y) // reads next value pair into x and y\n",
    "```\n",
    "* **Python IO for x,y**\n",
    "```\n",
    "...\n",
    "data2 = np.loadtxt('rohr2.dat') # read all data in numpy array\n",
    "...\n",
    "for x,y in data2: # loop over data2 entries \n",
    "```\n"
   ]
  },
  {
   "cell_type": "markdown",
   "id": "372f5779-bf16-4a12-8b5c-47b786c7de02",
   "metadata": {},
   "source": [
    "---\n",
    "\n",
    "### Simple data analysis ###\n",
    "\n",
    "ROOT enables the efficient and fast analysis of very large amounts of data. \n",
    "In principle of course data can be saved in simple ASCII or .csv  formats and read in and processed with normal python or C/C++ commands. However, this is not very efficient, both in terms of space usage as well as fast I/O.\n",
    "Using ROOT tuples is much more efficient, this way the data and its properties or variables are structured in the so-called tree format (trees).\n",
    "\n",
    "Root trees are optimized for storing and efficiently processing particle physics event data .\n",
    "\n",
    "Typically, events that are recorded in the detector are stored and processed in very different ways.\n",
    "\n",
    "* **Raw data** contain all the detailed information of the sub-detectors, eg the drift times of each tube in the myinspectrometer that registered a signal. This requires a complex, deep tree structure:\n",
    "   * ATLAS -> muon spectrometer ->  chamber ID ->  tube ID -> drift time \n",
    "\n",
    "\n",
    "\n",
    "* **reconstructed data:** tracks in the tracking detectors, blocks or clusters in the calorimeters, reconstructed decay vertices, .... \n",
    "   * Still requires complex tree structure\n",
    "\n",
    "\n",
    "* **Summary data:** reconstructed abstract objects: jets, leptons, photons, missing momentum vector, ... \n",
    "   * still nested data: can be 1, 2, ... n jets, leptons, ....\n",
    "\n",
    "\n",
    "* **Global summary:** number of tracks or jets, energy in calorimeter, ... \n",
    "   * Flat table layout, fixed number of parameters (=columns) per event is sufficient for easy characterization.\n",
    "\n",
    "\n",
    "HEP data analysis at the final stage usually use the latter format...\n"
   ]
  },
  {
   "cell_type": "code",
   "execution_count": null,
   "id": "9c2fb02b-8e25-43b1-9179-9f3e332c93de",
   "metadata": {
    "tags": []
   },
   "outputs": [],
   "source": [
    "//auto f = TFile::Open(\"/project/etp/gduckeck/Z0-Versuch/root/ntz0mhmc.root\"); // local file\n",
    "auto f = TFile::Open(\"http://www.etp.physik.uni-muenchen.de/kurs/comp10/uebungen/Z0-Versuch/data/ntz0mhmc.root\"); // Web file\n",
    "// returns TFile pointer\n",
    "(*f).ls();  // liefert Info zu File Struktur\n",
    "//  KEY: TTree  h5000;1 EVENT // h5000 ist Name des Trees\n",
    "auto mytree = (TTree*)(*gROOT).FindObject(\"h5000\");\n",
    "\n",
    "(*mytree).Print(); // liefert Info zu Variablen im Tree "
   ]
  },
  {
   "cell_type": "code",
   "execution_count": null,
   "id": "c5d21eeb-91bc-4944-b5fe-bf9a82aed2f4",
   "metadata": {},
   "outputs": [],
   "source": [
    "mync = TCanvas(\"mync\",\"mync\",10,10,500,300);  // create drawing canvas"
   ]
  },
  {
   "cell_type": "code",
   "execution_count": null,
   "id": "fb52bfa2-cafb-4483-a313-e32092a8039c",
   "metadata": {},
   "outputs": [],
   "source": [
    "(*mytree).Draw(\"Ncharged\"); // fuellt 1D Histogramm mit Variable Ncharged (automatische Histo Erzeugung)\n",
    "\n",
    "//(*mytree).Draw(\"N_ecal:Ncharged\"); // fuellt 2D Histogramm mit Variable Ncharged vs N_ecal\n",
    "\n",
    "//auto h1 = TH1F(\"nc\",\"N Tracks\", 50, 0, 50); // Buche 1d Histo\n",
    "//(*mytree).Draw(\"Ncharged>>nc\"); // fuellt 1D Histogramm mit Variable Ncharged in gebuchtes Histo\n",
    "\n",
    "//(*mytree).Draw(\"Ncharged\",\"E_ecal>10\"); // fuellt 1D Histogramm mit Variable Ncharged wenn Cut erfuellt ist\n",
    "\n",
    "mync.Draw()\n"
   ]
  },
  {
   "cell_type": "code",
   "execution_count": null,
   "id": "fe84f511-3eaa-442d-bcce-5eb89e997d73",
   "metadata": {},
   "outputs": [],
   "source": []
  },
  {
   "cell_type": "markdown",
   "id": "1571df3d-67f1-46c6-9ecb-96b08f39014d",
   "metadata": {
    "tags": []
   },
   "source": [
    "---\n",
    "#### Exercises - 2 ####\n",
    "\n",
    "* Plot the distributions (1D histograms) of important quantities like Ncharged, E_ecal, Pcharged for the datasets with simulated events: ntz0mhmc.root (quark/hadron decays), ntz0eemc.root (electron/positron), ntz0mmmc.root (muon), ntz0ttmc .root (tau)\n",
    "\n",
    "* Example notebook for processing the files/trees and creating/plotting the histograms: [PyROOT-Z0-Ex1.ipynb](PyROOT-Z0-Ex1.ipynb)\n",
    "\n",
    "* Make 2D histograms for the three combinations of Ncharged, E_ecal, Pcharged for both the simulated datasets and the detector data (ntz0e4.root).\n",
    "\n"
   ]
  },
  {
   "cell_type": "code",
   "execution_count": null,
   "id": "97192aa8-410c-4dd4-b5cb-59e39d6a9660",
   "metadata": {},
   "outputs": [],
   "source": []
  }
 ],
 "metadata": {
  "kernelspec": {
   "display_name": "Python 3 (ipykernel)",
   "language": "python",
   "name": "python3"
  },
  "language_info": {
   "codemirror_mode": {
    "name": "ipython",
    "version": 3
   },
   "file_extension": ".py",
   "mimetype": "text/x-python",
   "name": "python",
   "nbconvert_exporter": "python",
   "pygments_lexer": "ipython3",
   "version": "3.11.5"
  }
 },
 "nbformat": 4,
 "nbformat_minor": 5
}
